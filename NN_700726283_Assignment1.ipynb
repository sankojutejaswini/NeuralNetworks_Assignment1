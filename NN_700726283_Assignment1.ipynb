{
 "cells": [
  {
   "cell_type": "code",
   "execution_count": 1,
   "id": "7c6dbef8",
   "metadata": {},
   "outputs": [
    {
     "name": "stdout",
     "output_type": "stream",
     "text": [
      "ntyp\n"
     ]
    }
   ],
   "source": [
    "givenStr = \"python\";\n",
    "givenStr = givenStr.replace('h','');\n",
    "givenStr = givenStr.replace('o','');\n",
    "print(givenStr[::-1]);"
   ]
  },
  {
   "cell_type": "code",
   "execution_count": 2,
   "id": "f28f9ac4",
   "metadata": {},
   "outputs": [
    {
     "name": "stdout",
     "output_type": "stream",
     "text": [
      "6\n",
      "2\n",
      "8\n",
      "2.0\n"
     ]
    }
   ],
   "source": [
    "a = 4;\n",
    "b = 2;\n",
    "print(a+b);\n",
    "print(a-b);\n",
    "print(a*b);\n",
    "print(a/b);"
   ]
  },
  {
   "cell_type": "code",
   "execution_count": 3,
   "id": "51273b50",
   "metadata": {},
   "outputs": [
    {
     "name": "stdout",
     "output_type": "stream",
     "text": [
      "I love playing with pythons\n"
     ]
    }
   ],
   "source": [
    "inputStr = \"I love playing with python\";\n",
    "print(inputStr.replace('python','pythons'));"
   ]
  },
  {
   "cell_type": "code",
   "execution_count": 5,
   "id": "7c69ccc8",
   "metadata": {},
   "outputs": [
    {
     "name": "stdout",
     "output_type": "stream",
     "text": [
      "Enter your score:94\n",
      "A\n"
     ]
    }
   ],
   "source": [
    "score = int(input(\"Enter your score:\"));\n",
    "if score >= 90 and score <=100:\n",
    "    print(\"A\");\n",
    "elif score >= 80 and score <=89:\n",
    "    print(\"B\");\n",
    "elif score >= 70 and score <=79:\n",
    "    print(\"C\");\n",
    "elif score >= 60 and score <=69:\n",
    "    print(\"D\");\n",
    "else:\n",
    "    print(\"F\");"
   ]
  },
  {
   "cell_type": "code",
   "execution_count": null,
   "id": "6a37dd72",
   "metadata": {},
   "outputs": [],
   "source": []
  }
 ],
 "metadata": {
  "kernelspec": {
   "display_name": "Python 3 (ipykernel)",
   "language": "python",
   "name": "python3"
  },
  "language_info": {
   "codemirror_mode": {
    "name": "ipython",
    "version": 3
   },
   "file_extension": ".py",
   "mimetype": "text/x-python",
   "name": "python",
   "nbconvert_exporter": "python",
   "pygments_lexer": "ipython3",
   "version": "3.9.7"
  }
 },
 "nbformat": 4,
 "nbformat_minor": 5
}
